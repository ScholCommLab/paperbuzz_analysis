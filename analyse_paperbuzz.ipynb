{
 "cells": [
  {
   "cell_type": "code",
   "execution_count": 28,
   "metadata": {},
   "outputs": [],
   "source": [
    "import pandas as pd\n",
    "import seaborn as sns\n",
    "import matplotlib.pyplot as plt\n",
    "import matplotlib.dates as mdates\n",
    "\n",
    "import json"
   ]
  },
  {
   "cell_type": "code",
   "execution_count": 29,
   "metadata": {},
   "outputs": [],
   "source": [
    "from matplotlib import rc\n",
    "rc('font', family='sans-serif')\n",
    "rc('font', size=13.0)\n",
    "rc('text', usetex=False)\n",
    "rc('figure', figsize=(11.69,8.27))\n",
    "\n",
    "from matplotlib.font_manager import FontProperties\n",
    "\n",
    "panel_label_font = FontProperties().copy()\n",
    "panel_label_font.set_weight(\"bold\")\n",
    "panel_label_font.set_size(14.0)\n",
    "panel_label_font.set_family(\"sans-serif\")\n",
    "\n",
    "# Seaborn styles\n",
    "sns.set_style(\"whitegrid\")"
   ]
  },
  {
   "cell_type": "code",
   "execution_count": 24,
   "metadata": {},
   "outputs": [],
   "source": [
    "df = pd.read_csv(\"paperbuzz.csv\", dtype={'status':str}, na_values=[\"{}\", \"None\"])\n",
    "df.set_index(\"id\", inplace=True)\n",
    "df['timestamp'] = pd.to_datetime(df['timestamp'])\n",
    "df['date'] = pd.to_datetime(df['date'], errors = 'coerce')\n",
    "\n",
    "df = df[~df.date.isnull()]"
   ]
  },
  {
   "cell_type": "code",
   "execution_count": 2,
   "metadata": {},
   "outputs": [
    {
     "data": {
      "text/plain": [
       "200                47994\n",
       "ReadTimeout           35\n",
       "ConnectionError       16\n",
       "500                    3\n",
       "SSLError               1\n",
       "Name: status, dtype: int64"
      ]
     },
     "execution_count": 2,
     "metadata": {},
     "output_type": "execute_result"
    }
   ],
   "source": [
    "df.status.value_counts()"
   ]
  },
  {
   "cell_type": "code",
   "execution_count": 37,
   "metadata": {},
   "outputs": [],
   "source": [
    "sources = set()\n",
    "for resp in df.response.tolist():\n",
    "    if not pd.isna(resp):\n",
    "        j = json.loads(resp)\n",
    "        if 'altmetrics_sources' in j:\n",
    "            for s in j['altmetrics_sources']:\n",
    "                sources.add(s['source_id'])"
   ]
  },
  {
   "cell_type": "code",
   "execution_count": 38,
   "metadata": {},
   "outputs": [],
   "source": [
    "results = df.copy()\n",
    "for s in sources:\n",
    "    results[s] = None"
   ]
  },
  {
   "cell_type": "code",
   "execution_count": 39,
   "metadata": {},
   "outputs": [],
   "source": [
    "def extract_metrics(row):\n",
    "    if not pd.isna(row['response']):\n",
    "        j = json.loads(row['response'])\n",
    "        if 'altmetrics_sources' in j:\n",
    "            for s in j['altmetrics_sources']:\n",
    "                row[s['source_id']] = float(s['events_count'])\n",
    "    return row"
   ]
  },
  {
   "cell_type": "code",
   "execution_count": 42,
   "metadata": {},
   "outputs": [
    {
     "data": {
      "text/html": [
       "<div>\n",
       "<style scoped>\n",
       "    .dataframe tbody tr th:only-of-type {\n",
       "        vertical-align: middle;\n",
       "    }\n",
       "\n",
       "    .dataframe tbody tr th {\n",
       "        vertical-align: top;\n",
       "    }\n",
       "\n",
       "    .dataframe thead th {\n",
       "        text-align: right;\n",
       "    }\n",
       "</style>\n",
       "<table border=\"1\" class=\"dataframe\">\n",
       "  <thead>\n",
       "    <tr style=\"text-align: right;\">\n",
       "      <th></th>\n",
       "      <th>crossref</th>\n",
       "      <th>twitter</th>\n",
       "      <th>newsfeed</th>\n",
       "      <th>wordpressdotcom</th>\n",
       "      <th>wikipedia</th>\n",
       "      <th>reddit</th>\n",
       "      <th>datacite</th>\n",
       "    </tr>\n",
       "  </thead>\n",
       "  <tbody>\n",
       "    <tr>\n",
       "      <th>count</th>\n",
       "      <td>5.0</td>\n",
       "      <td>1873.000000</td>\n",
       "      <td>8.000000</td>\n",
       "      <td>13.000000</td>\n",
       "      <td>61.000000</td>\n",
       "      <td>4.0</td>\n",
       "      <td>226.000000</td>\n",
       "    </tr>\n",
       "    <tr>\n",
       "      <th>mean</th>\n",
       "      <td>1.0</td>\n",
       "      <td>4.340630</td>\n",
       "      <td>1.750000</td>\n",
       "      <td>1.153846</td>\n",
       "      <td>5.573770</td>\n",
       "      <td>1.0</td>\n",
       "      <td>5.212389</td>\n",
       "    </tr>\n",
       "    <tr>\n",
       "      <th>std</th>\n",
       "      <td>0.0</td>\n",
       "      <td>9.380452</td>\n",
       "      <td>1.035098</td>\n",
       "      <td>0.375534</td>\n",
       "      <td>9.385199</td>\n",
       "      <td>0.0</td>\n",
       "      <td>10.496096</td>\n",
       "    </tr>\n",
       "    <tr>\n",
       "      <th>min</th>\n",
       "      <td>1.0</td>\n",
       "      <td>1.000000</td>\n",
       "      <td>1.000000</td>\n",
       "      <td>1.000000</td>\n",
       "      <td>1.000000</td>\n",
       "      <td>1.0</td>\n",
       "      <td>1.000000</td>\n",
       "    </tr>\n",
       "    <tr>\n",
       "      <th>25%</th>\n",
       "      <td>1.0</td>\n",
       "      <td>1.000000</td>\n",
       "      <td>1.000000</td>\n",
       "      <td>1.000000</td>\n",
       "      <td>1.000000</td>\n",
       "      <td>1.0</td>\n",
       "      <td>2.000000</td>\n",
       "    </tr>\n",
       "    <tr>\n",
       "      <th>50%</th>\n",
       "      <td>1.0</td>\n",
       "      <td>2.000000</td>\n",
       "      <td>1.500000</td>\n",
       "      <td>1.000000</td>\n",
       "      <td>2.000000</td>\n",
       "      <td>1.0</td>\n",
       "      <td>2.000000</td>\n",
       "    </tr>\n",
       "    <tr>\n",
       "      <th>75%</th>\n",
       "      <td>1.0</td>\n",
       "      <td>4.000000</td>\n",
       "      <td>2.000000</td>\n",
       "      <td>1.000000</td>\n",
       "      <td>6.000000</td>\n",
       "      <td>1.0</td>\n",
       "      <td>2.000000</td>\n",
       "    </tr>\n",
       "    <tr>\n",
       "      <th>max</th>\n",
       "      <td>1.0</td>\n",
       "      <td>238.000000</td>\n",
       "      <td>4.000000</td>\n",
       "      <td>2.000000</td>\n",
       "      <td>67.000000</td>\n",
       "      <td>1.0</td>\n",
       "      <td>98.000000</td>\n",
       "    </tr>\n",
       "  </tbody>\n",
       "</table>\n",
       "</div>"
      ],
      "text/plain": [
       "       crossref      twitter  newsfeed  wordpressdotcom  wikipedia  reddit  \\\n",
       "count       5.0  1873.000000  8.000000        13.000000  61.000000     4.0   \n",
       "mean        1.0     4.340630  1.750000         1.153846   5.573770     1.0   \n",
       "std         0.0     9.380452  1.035098         0.375534   9.385199     0.0   \n",
       "min         1.0     1.000000  1.000000         1.000000   1.000000     1.0   \n",
       "25%         1.0     1.000000  1.000000         1.000000   1.000000     1.0   \n",
       "50%         1.0     2.000000  1.500000         1.000000   2.000000     1.0   \n",
       "75%         1.0     4.000000  2.000000         1.000000   6.000000     1.0   \n",
       "max         1.0   238.000000  4.000000         2.000000  67.000000     1.0   \n",
       "\n",
       "         datacite  \n",
       "count  226.000000  \n",
       "mean     5.212389  \n",
       "std     10.496096  \n",
       "min      1.000000  \n",
       "25%      2.000000  \n",
       "50%      2.000000  \n",
       "75%      2.000000  \n",
       "max     98.000000  "
      ]
     },
     "execution_count": 42,
     "metadata": {},
     "output_type": "execute_result"
    }
   ],
   "source": [
    "results = results.apply(extract_metrics, axis=1)\n",
    "results.describe()"
   ]
  }
 ],
 "metadata": {
  "kernelspec": {
   "display_name": "altmetrics",
   "language": "python",
   "name": "altmetrics"
  },
  "language_info": {
   "codemirror_mode": {
    "name": "ipython",
    "version": 3
   },
   "file_extension": ".py",
   "mimetype": "text/x-python",
   "name": "python",
   "nbconvert_exporter": "python",
   "pygments_lexer": "ipython3",
   "version": "3.5.2"
  }
 },
 "nbformat": 4,
 "nbformat_minor": 2
}
