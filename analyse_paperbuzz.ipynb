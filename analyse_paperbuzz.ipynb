{
 "cells": [
  {
   "cell_type": "code",
   "execution_count": 28,
   "metadata": {},
   "outputs": [],
   "source": [
    "import pandas as pd\n",
    "import seaborn as sns\n",
    "import matplotlib.pyplot as plt\n",
    "import matplotlib.dates as mdates\n",
    "\n",
    "import json"
   ]
  },
  {
   "cell_type": "code",
   "execution_count": 29,
   "metadata": {},
   "outputs": [],
   "source": [
    "from matplotlib import rc\n",
    "rc('font', family='sans-serif')\n",
    "rc('font', size=13.0)\n",
    "rc('text', usetex=False)\n",
    "rc('figure', figsize=(11.69,8.27))\n",
    "\n",
    "from matplotlib.font_manager import FontProperties\n",
    "\n",
    "panel_label_font = FontProperties().copy()\n",
    "panel_label_font.set_weight(\"bold\")\n",
    "panel_label_font.set_size(14.0)\n",
    "panel_label_font.set_family(\"sans-serif\")\n",
    "\n",
    "# Seaborn styles\n",
    "sns.set_style(\"whitegrid\")"
   ]
  },
  {
   "cell_type": "code",
   "execution_count": 30,
   "metadata": {},
   "outputs": [],
   "source": [
    "df = pd.read_csv(\"paperbuzz.csv\", dtype={'status':str})\n",
    "df.set_index(\"id\", inplace=True)\n",
    "df['timestamp'] = pd.to_datetime(df['timestamp'])\n",
    "df['date'] = pd.to_datetime(df['date'], errors = 'coerce')\n",
    "\n",
    "df = df[~df.date.isnull()]"
   ]
  },
  {
   "cell_type": "code",
   "execution_count": 38,
   "metadata": {},
   "outputs": [
    {
     "data": {
      "text/plain": [
       "200            6171\n",
       "ReadTimeout      27\n",
       "500               2\n",
       "Name: status, dtype: int64"
      ]
     },
     "execution_count": 38,
     "metadata": {},
     "output_type": "execute_result"
    }
   ],
   "source": [
    "df.status.value_counts()"
   ]
  },
  {
   "cell_type": "code",
   "execution_count": 41,
   "metadata": {},
   "outputs": [],
   "source": [
    "results = df.copy()\n",
    "\n",
    "for ix, row in df.iterrows():\n",
    "    if row['status'] == \"200\":\n",
    "        j = json.loads(row['response'])\n",
    "        if 'altmetrics_sources' in j:\n",
    "            for s in j['altmetrics_sources']:\n",
    "                name = s['source_id']\n",
    "                if name in results.columns:\n",
    "                    results.loc[ix, name] = float(s['events_count'])\n",
    "                else:\n",
    "                    results[name] = np.nan\n",
    "                    results.loc[ix, name] = float(s['events_count'])"
   ]
  },
  {
   "cell_type": "code",
   "execution_count": 45,
   "metadata": {},
   "outputs": [
    {
     "data": {
      "text/html": [
       "<div>\n",
       "<style scoped>\n",
       "    .dataframe tbody tr th:only-of-type {\n",
       "        vertical-align: middle;\n",
       "    }\n",
       "\n",
       "    .dataframe tbody tr th {\n",
       "        vertical-align: top;\n",
       "    }\n",
       "\n",
       "    .dataframe thead th {\n",
       "        text-align: right;\n",
       "    }\n",
       "</style>\n",
       "<table border=\"1\" class=\"dataframe\">\n",
       "  <thead>\n",
       "    <tr style=\"text-align: right;\">\n",
       "      <th></th>\n",
       "      <th>twitter</th>\n",
       "      <th>wikipedia</th>\n",
       "      <th>datacite</th>\n",
       "      <th>wordpressdotcom</th>\n",
       "    </tr>\n",
       "  </thead>\n",
       "  <tbody>\n",
       "    <tr>\n",
       "      <th>count</th>\n",
       "      <td>201.000000</td>\n",
       "      <td>5.000000</td>\n",
       "      <td>38.000000</td>\n",
       "      <td>1.0</td>\n",
       "    </tr>\n",
       "    <tr>\n",
       "      <th>mean</th>\n",
       "      <td>4.532338</td>\n",
       "      <td>4.600000</td>\n",
       "      <td>3.342105</td>\n",
       "      <td>1.0</td>\n",
       "    </tr>\n",
       "    <tr>\n",
       "      <th>std</th>\n",
       "      <td>7.431702</td>\n",
       "      <td>4.774935</td>\n",
       "      <td>5.463769</td>\n",
       "      <td>NaN</td>\n",
       "    </tr>\n",
       "    <tr>\n",
       "      <th>min</th>\n",
       "      <td>1.000000</td>\n",
       "      <td>2.000000</td>\n",
       "      <td>1.000000</td>\n",
       "      <td>1.0</td>\n",
       "    </tr>\n",
       "    <tr>\n",
       "      <th>25%</th>\n",
       "      <td>1.000000</td>\n",
       "      <td>2.000000</td>\n",
       "      <td>2.000000</td>\n",
       "      <td>1.0</td>\n",
       "    </tr>\n",
       "    <tr>\n",
       "      <th>50%</th>\n",
       "      <td>2.000000</td>\n",
       "      <td>2.000000</td>\n",
       "      <td>2.000000</td>\n",
       "      <td>1.0</td>\n",
       "    </tr>\n",
       "    <tr>\n",
       "      <th>75%</th>\n",
       "      <td>5.000000</td>\n",
       "      <td>4.000000</td>\n",
       "      <td>2.000000</td>\n",
       "      <td>1.0</td>\n",
       "    </tr>\n",
       "    <tr>\n",
       "      <th>max</th>\n",
       "      <td>59.000000</td>\n",
       "      <td>13.000000</td>\n",
       "      <td>31.000000</td>\n",
       "      <td>1.0</td>\n",
       "    </tr>\n",
       "  </tbody>\n",
       "</table>\n",
       "</div>"
      ],
      "text/plain": [
       "          twitter  wikipedia   datacite  wordpressdotcom\n",
       "count  201.000000   5.000000  38.000000              1.0\n",
       "mean     4.532338   4.600000   3.342105              1.0\n",
       "std      7.431702   4.774935   5.463769              NaN\n",
       "min      1.000000   2.000000   1.000000              1.0\n",
       "25%      1.000000   2.000000   2.000000              1.0\n",
       "50%      2.000000   2.000000   2.000000              1.0\n",
       "75%      5.000000   4.000000   2.000000              1.0\n",
       "max     59.000000  13.000000  31.000000              1.0"
      ]
     },
     "execution_count": 45,
     "metadata": {},
     "output_type": "execute_result"
    }
   ],
   "source": [
    "results.describe()"
   ]
  }
 ],
 "metadata": {
  "kernelspec": {
   "display_name": "altmetrics",
   "language": "python",
   "name": "altmetrics"
  },
  "language_info": {
   "codemirror_mode": {
    "name": "ipython",
    "version": 3
   },
   "file_extension": ".py",
   "mimetype": "text/x-python",
   "name": "python",
   "nbconvert_exporter": "python",
   "pygments_lexer": "ipython3",
   "version": "3.5.2"
  }
 },
 "nbformat": 4,
 "nbformat_minor": 2
}
